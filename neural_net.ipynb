{
  "nbformat": 4,
  "nbformat_minor": 0,
  "metadata": {
    "colab": {
      "name": "neural_net.ipynb",
      "provenance": [],
      "collapsed_sections": []
    },
    "kernelspec": {
      "name": "python3",
      "display_name": "Python 3"
    }
  },
  "cells": [
    {
      "cell_type": "code",
      "metadata": {
        "id": "HVmnKlAKSJsz",
        "colab_type": "code",
        "colab": {}
      },
      "source": [
        "import numpy as np"
      ],
      "execution_count": 0,
      "outputs": []
    },
    {
      "cell_type": "code",
      "metadata": {
        "id": "uN4SRxXPZIRg",
        "colab_type": "code",
        "colab": {}
      },
      "source": [
        "class NeuralNetwork():\n",
        "  def __init__(self):\n",
        "    np.random.seed(1)\n",
        "    self.synaptic_weights = 2 * np.random.random((3,1)) - 1\n",
        "\n",
        "  def sigmoid(self, x):\n",
        "    return 1 / (1 + np.exp(-x))\n",
        "\n",
        "  def sigmoid_derivatives(self, x):\n",
        "    return x * (1 - x)\n",
        "\n",
        "  def train(self, training_inputs, training_outputs, training_iterations):\n",
        "    for iteration in range(training_iterations):\n",
        "      output = self.think(training_inputs)\n",
        "      error = training_outputs - output\n",
        "      adjustments = np.dot(training_inputs.T, error * self.sigmoid_derivatives(output))\n",
        "      self.synaptic_weights += adjustments\n",
        "\n",
        "  def think(self, inputs):\n",
        "    inputs = inputs.astype(float)\n",
        "    output = self.sigmoid(np.dot(inputs, self.synaptic_weights))\n",
        "    return output"
      ],
      "execution_count": 0,
      "outputs": []
    },
    {
      "cell_type": "code",
      "metadata": {
        "id": "P5XdiNeudCBT",
        "colab_type": "code",
        "colab": {
          "base_uri": "https://localhost:8080/",
          "height": 85
        },
        "outputId": "573ad02e-8887-4284-f829-ee4464449841"
      },
      "source": [
        "if __name__ == '__main__':\n",
        "  neural_network = NeuralNetwork()\n",
        "  print(\"Random Synaptic weights: \")\n",
        "  print(neural_network.synaptic_weights) "
      ],
      "execution_count": 56,
      "outputs": [
        {
          "output_type": "stream",
          "text": [
            "Random Synaptic weights: \n",
            "[[-0.16595599]\n",
            " [ 0.44064899]\n",
            " [-0.99977125]]\n"
          ],
          "name": "stdout"
        }
      ]
    },
    {
      "cell_type": "code",
      "metadata": {
        "id": "qGSMzc-adjai",
        "colab_type": "code",
        "colab": {}
      },
      "source": [
        "training_inputs = np.array([[0,0,1],\n",
        "                            [1,1,1],\n",
        "                            [1,0,1],\n",
        "                            [0,1,1]])"
      ],
      "execution_count": 0,
      "outputs": []
    },
    {
      "cell_type": "code",
      "metadata": {
        "id": "9XC-RIbveBsU",
        "colab_type": "code",
        "colab": {
          "base_uri": "https://localhost:8080/",
          "height": 85
        },
        "outputId": "88d2cfa3-d280-46fb-d80c-a82258eb1f56"
      },
      "source": [
        "training_inputs"
      ],
      "execution_count": 58,
      "outputs": [
        {
          "output_type": "execute_result",
          "data": {
            "text/plain": [
              "array([[0, 0, 1],\n",
              "       [1, 1, 1],\n",
              "       [1, 0, 1],\n",
              "       [0, 1, 1]])"
            ]
          },
          "metadata": {
            "tags": []
          },
          "execution_count": 58
        }
      ]
    },
    {
      "cell_type": "code",
      "metadata": {
        "id": "gbdXpyVleDS0",
        "colab_type": "code",
        "colab": {}
      },
      "source": [
        "training_outputs = np.array([[0,1,1,0]]).T"
      ],
      "execution_count": 0,
      "outputs": []
    },
    {
      "cell_type": "code",
      "metadata": {
        "id": "soaRd9hGeGEA",
        "colab_type": "code",
        "colab": {
          "base_uri": "https://localhost:8080/",
          "height": 85
        },
        "outputId": "aa9021e1-e877-4dea-ce0c-764844b84c26"
      },
      "source": [
        "training_outputs"
      ],
      "execution_count": 60,
      "outputs": [
        {
          "output_type": "execute_result",
          "data": {
            "text/plain": [
              "array([[0],\n",
              "       [1],\n",
              "       [1],\n",
              "       [0]])"
            ]
          },
          "metadata": {
            "tags": []
          },
          "execution_count": 60
        }
      ]
    },
    {
      "cell_type": "code",
      "metadata": {
        "id": "i2-gbaqYeHcA",
        "colab_type": "code",
        "colab": {}
      },
      "source": [
        "neural_network.train(training_inputs, training_outputs, 100000)"
      ],
      "execution_count": 0,
      "outputs": []
    },
    {
      "cell_type": "code",
      "metadata": {
        "id": "yan-gRyNeg1Z",
        "colab_type": "code",
        "colab": {
          "base_uri": "https://localhost:8080/",
          "height": 85
        },
        "outputId": "cc8f007c-0eb7-484b-d554-e02f5c8df9ec"
      },
      "source": [
        "print(\"Random Synaptic weights after training: \")\n",
        "print(neural_network.synaptic_weights) "
      ],
      "execution_count": 63,
      "outputs": [
        {
          "output_type": "stream",
          "text": [
            "Random Synaptic weights after training: \n",
            "[[12.00870061]\n",
            " [-0.2044116 ]\n",
            " [-5.8002822 ]]\n"
          ],
          "name": "stdout"
        }
      ]
    },
    {
      "cell_type": "code",
      "metadata": {
        "id": "WsEjedIkf1_I",
        "colab_type": "code",
        "colab": {
          "base_uri": "https://localhost:8080/",
          "height": 119
        },
        "outputId": "d82868a9-042e-404f-983c-1b1d6ccd50df"
      },
      "source": [
        "A = str(input(\"Input 1: \"))\n",
        "B = str(input(\"Input 2: \"))\n",
        "C = str(input(\"Input 3: \"))\n",
        "\n",
        "print('New situation: input data: ', A, B, C)\n",
        "print('Output: ')\n",
        "print(neural_network.think(np.array([A, B, C])))"
      ],
      "execution_count": 67,
      "outputs": [
        {
          "output_type": "stream",
          "text": [
            "Input 1: 1\n",
            "Input 2: 0\n",
            "Input 3: 1\n",
            "New situation: input data:  1 0 1\n",
            "Output: \n",
            "[0.99799162]\n"
          ],
          "name": "stdout"
        }
      ]
    }
  ]
}
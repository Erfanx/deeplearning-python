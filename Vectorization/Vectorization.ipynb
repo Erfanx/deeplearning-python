{
  "nbformat": 4,
  "nbformat_minor": 0,
  "metadata": {
    "colab": {
      "name": "Vectorization.ipynb",
      "provenance": []
    },
    "kernelspec": {
      "name": "python3",
      "display_name": "Python 3"
    }
  },
  "cells": [
    {
      "cell_type": "code",
      "metadata": {
        "id": "GqGXYxzQJTOP",
        "colab_type": "code",
        "colab": {
          "base_uri": "https://localhost:8080/",
          "height": 34
        },
        "outputId": "ce4aa752-a891-40e4-da9e-6110ce93ce32"
      },
      "source": [
        "import numpy as np\n",
        "\n",
        "a = np.array([1,2,3,4,5])\n",
        "print(a)"
      ],
      "execution_count": 2,
      "outputs": [
        {
          "output_type": "stream",
          "text": [
            "[1 2 3 4 5]\n"
          ],
          "name": "stdout"
        }
      ]
    },
    {
      "cell_type": "code",
      "metadata": {
        "id": "kCiUFqegJ4-M",
        "colab_type": "code",
        "colab": {
          "base_uri": "https://localhost:8080/",
          "height": 85
        },
        "outputId": "b3fc62a1-4335-4986-b7f1-df8da40195e7"
      },
      "source": [
        "import time\n",
        "\n",
        "a = np.random.rand(1000000)\n",
        "b = np.random.rand(1000000)\n",
        "\n",
        "tic = time.time()\n",
        "c = np.dot(a,b)\n",
        "toc = time.time()\n",
        "\n",
        "print(c)\n",
        "print(\"Vectorization version: \" + str(1000*(toc-tic)) + \"ms\")\n",
        "\n",
        "\n",
        "c = 0\n",
        "tic = time.time()\n",
        "\n",
        "for i in range(1000000):\n",
        "  c += a[i] * b[i]\n",
        "\n",
        "toc = time.time()\n",
        "\n",
        "print(c)\n",
        "print(\"Non-vectorization version: \" + str(1000*(toc-tic)) + \"ms\")"
      ],
      "execution_count": 12,
      "outputs": [
        {
          "output_type": "stream",
          "text": [
            "250149.46003556525\n",
            "Vectorization version: 1.428365707397461ms\n",
            "250149.46003556182\n",
            "Non-vectorization version: 686.5036487579346ms\n"
          ],
          "name": "stdout"
        }
      ]
    }
  ]
}
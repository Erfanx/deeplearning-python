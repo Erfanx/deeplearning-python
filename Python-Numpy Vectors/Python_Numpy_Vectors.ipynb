{
  "nbformat": 4,
  "nbformat_minor": 0,
  "metadata": {
    "colab": {
      "name": "Python-Numpy Vectors.ipynb",
      "provenance": []
    },
    "kernelspec": {
      "name": "python3",
      "display_name": "Python 3"
    }
  },
  "cells": [
    {
      "cell_type": "code",
      "metadata": {
        "id": "ixD-aLr4-jlg",
        "colab_type": "code",
        "colab": {
          "base_uri": "https://localhost:8080/",
          "height": 34
        },
        "outputId": "f8e63e5c-2311-480f-d282-97f1e7483054"
      },
      "source": [
        "import numpy as np\n",
        "\n",
        "a = np.random.randn(5)\n",
        "\n",
        "print(a)"
      ],
      "execution_count": 2,
      "outputs": [
        {
          "output_type": "stream",
          "text": [
            "[-0.0804682   0.80705054  0.79215763 -1.40834262 -0.43542733]\n"
          ],
          "name": "stdout"
        }
      ]
    },
    {
      "cell_type": "code",
      "metadata": {
        "id": "dlXwqaHa-6ok",
        "colab_type": "code",
        "colab": {
          "base_uri": "https://localhost:8080/",
          "height": 34
        },
        "outputId": "0e90f8ab-561b-45c4-c7da-3ec515991f55"
      },
      "source": [
        "print(a.T)"
      ],
      "execution_count": 4,
      "outputs": [
        {
          "output_type": "stream",
          "text": [
            "[-0.0804682   0.80705054  0.79215763 -1.40834262 -0.43542733]\n"
          ],
          "name": "stdout"
        }
      ]
    },
    {
      "cell_type": "code",
      "metadata": {
        "id": "uoBRflpM_X3c",
        "colab_type": "code",
        "colab": {
          "base_uri": "https://localhost:8080/",
          "height": 34
        },
        "outputId": "f38ff806-32be-4d9f-efa4-2fc35a16c68e"
      },
      "source": [
        "print(np.dot(a,a.T))"
      ],
      "execution_count": 5,
      "outputs": [
        {
          "output_type": "stream",
          "text": [
            "3.4583453018343615\n"
          ],
          "name": "stdout"
        }
      ]
    },
    {
      "cell_type": "code",
      "metadata": {
        "id": "-PlBKXdO_i3c",
        "colab_type": "code",
        "colab": {
          "base_uri": "https://localhost:8080/",
          "height": 102
        },
        "outputId": "51e57633-b687-403d-868c-451646810dcf"
      },
      "source": [
        "a = np.random.randn(5,1)\n",
        "\n",
        "print(a)"
      ],
      "execution_count": 6,
      "outputs": [
        {
          "output_type": "stream",
          "text": [
            "[[ 0.00624081]\n",
            " [-0.86539115]\n",
            " [-1.54809325]\n",
            " [ 1.75876394]\n",
            " [-1.66630296]]\n"
          ],
          "name": "stdout"
        }
      ]
    },
    {
      "cell_type": "code",
      "metadata": {
        "id": "dLHC311x_qtM",
        "colab_type": "code",
        "colab": {
          "base_uri": "https://localhost:8080/",
          "height": 34
        },
        "outputId": "011b0fa7-83e8-4c6d-ca28-0f3ab9bec5eb"
      },
      "source": [
        "print(a.T)"
      ],
      "execution_count": 7,
      "outputs": [
        {
          "output_type": "stream",
          "text": [
            "[[ 0.00624081 -0.86539115 -1.54809325  1.75876394 -1.66630296]]\n"
          ],
          "name": "stdout"
        }
      ]
    },
    {
      "cell_type": "code",
      "metadata": {
        "id": "14qsZEaD_tIt",
        "colab_type": "code",
        "colab": {
          "base_uri": "https://localhost:8080/",
          "height": 187
        },
        "outputId": "beb7555a-38ea-4f6c-fb25-cde929a4789e"
      },
      "source": [
        "print(np.dot(a,a.T))"
      ],
      "execution_count": 8,
      "outputs": [
        {
          "output_type": "stream",
          "text": [
            "[[ 3.89476569e-05 -5.40073812e-03 -9.66134933e-03  1.09761042e-02\n",
            "  -1.03990732e-02]\n",
            " [-5.40073812e-03  7.48901848e-01  1.33970620e+00 -1.52201875e+00\n",
            "   1.44200384e+00]\n",
            " [-9.66134933e-03  1.33970620e+00  2.39659271e+00 -2.72273058e+00\n",
            "   2.57959237e+00]\n",
            " [ 1.09761042e-02 -1.52201875e+00 -2.72273058e+00  3.09325059e+00\n",
            "  -2.93063356e+00]\n",
            " [-1.03990732e-02  1.44200384e+00  2.57959237e+00 -2.93063356e+00\n",
            "   2.77656557e+00]]\n"
          ],
          "name": "stdout"
        }
      ]
    }
  ]
}